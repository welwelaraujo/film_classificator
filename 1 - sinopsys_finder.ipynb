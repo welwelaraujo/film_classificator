{
 "cells": [
  {
   "cell_type": "markdown",
   "metadata": {},
   "source": [
    "Importação de bibliotecas (para que o selenium funcione o geckodriver necessita estar no mesmo diretório) "
   ]
  },
  {
   "cell_type": "code",
   "execution_count": null,
   "metadata": {},
   "outputs": [],
   "source": [
    "from selenium import webdriver\n",
    "import pandas as pd"
   ]
  },
  {
   "cell_type": "code",
   "execution_count": 2,
   "metadata": {},
   "outputs": [],
   "source": [
    "browser = webdriver.Chrome()"
   ]
  },
  {
   "cell_type": "markdown",
   "metadata": {},
   "source": [
    "Selecionamos sinopses do site \"adorocinema\" desde Dezembro de 2017. Coletamos de forma automatizada e isso nos trouxe 617 sinopses."
   ]
  },
  {
   "cell_type": "code",
   "execution_count": 3,
   "metadata": {},
   "outputs": [
    {
     "name": "stdout",
     "output_type": "stream",
     "text": [
      "Buscando semana do dia 2017-12-21\n",
      "Buscando semana do dia 2017-12-28\n",
      "Buscando semana do dia 2018-01-04\n",
      "Buscando semana do dia 2018-01-11\n",
      "Buscando semana do dia 2018-01-18\n",
      "Buscando semana do dia 2018-01-25\n",
      "Buscando semana do dia 2018-02-01\n",
      "Buscando semana do dia 2018-02-08\n",
      "Buscando semana do dia 2018-02-15\n",
      "Buscando semana do dia 2018-02-22\n",
      "Buscando semana do dia 2018-03-01\n",
      "Buscando semana do dia 2018-03-08\n",
      "Buscando semana do dia 2018-03-15\n",
      "Buscando semana do dia 2018-03-22\n",
      "Buscando semana do dia 2018-03-29\n",
      "Buscando semana do dia 2018-04-05\n",
      "Buscando semana do dia 2018-04-12\n",
      "Buscando semana do dia 2018-04-19\n",
      "Buscando semana do dia 2018-04-26\n",
      "Buscando semana do dia 2018-05-03\n",
      "Buscando semana do dia 2018-05-10\n",
      "Buscando semana do dia 2018-05-17\n",
      "Buscando semana do dia 2018-05-24\n",
      "Buscando semana do dia 2018-05-31\n",
      "Buscando semana do dia 2018-06-07\n",
      "Buscando semana do dia 2018-06-14\n",
      "Buscando semana do dia 2018-06-21\n",
      "Buscando semana do dia 2018-06-28\n",
      "Buscando semana do dia 2018-07-05\n",
      "Buscando semana do dia 2018-07-12\n",
      "Buscando semana do dia 2018-07-19\n",
      "Buscando semana do dia 2018-07-26\n",
      "Buscando semana do dia 2018-08-02\n",
      "Buscando semana do dia 2018-08-09\n",
      "Buscando semana do dia 2018-08-16\n",
      "Buscando semana do dia 2018-08-23\n",
      "Buscando semana do dia 2018-08-30\n",
      "Buscando semana do dia 2018-09-06\n",
      "Buscando semana do dia 2018-09-13\n",
      "Buscando semana do dia 2018-09-20\n",
      "Buscando semana do dia 2018-09-27\n",
      "Buscando semana do dia 2018-10-04\n",
      "Buscando semana do dia 2018-10-11\n",
      "Buscando semana do dia 2018-10-18\n",
      "Buscando semana do dia 2018-10-25\n",
      "Buscando semana do dia 2018-11-01\n",
      "Buscando semana do dia 2018-11-08\n",
      "Buscando semana do dia 2018-11-15\n",
      "Buscando semana do dia 2018-11-22\n",
      "Buscando semana do dia 2018-11-29\n",
      "Buscando semana do dia 2018-12-06\n",
      "Buscando semana do dia 2018-12-13\n",
      "Buscando semana do dia 2018-12-20\n",
      "Buscando semana do dia 2018-12-27\n",
      "Buscando semana do dia 2019-01-03\n",
      "Buscando semana do dia 2019-01-10\n",
      "Buscando semana do dia 2019-01-17\n",
      "Buscando semana do dia 2019-01-24\n",
      "Buscando semana do dia 2019-01-31\n",
      "Buscando semana do dia 2019-02-07\n",
      "Buscando semana do dia 2019-02-14\n",
      "Buscando semana do dia 2019-02-21\n",
      "Buscando semana do dia 2019-02-28\n",
      "Buscando semana do dia 2019-03-07\n",
      "Buscando semana do dia 2019-03-14\n",
      "Buscando semana do dia 2019-03-21\n",
      "Buscando semana do dia 2019-03-28\n",
      "Buscando semana do dia 2019-04-04\n",
      "Buscando semana do dia 2019-04-11\n",
      "Buscando semana do dia 2019-04-18\n",
      "Buscando semana do dia 2019-04-25\n",
      "Foram baixadas 617 sinopses\n"
     ]
    }
   ],
   "source": [
    "s = []\n",
    "title = []\n",
    "datelist = pd.date_range(start='2017-12-21', end='2019-05-01',freq='7D').tolist()\n",
    "datelist = [str(datelist[i])[0:10] for i in range(0,len(datelist))]\n",
    "for i in datelist:\n",
    "    print(\"Buscando semana do dia \"+i)\n",
    "    browser.get(\"http://www.adorocinema.com/filmes/agenda/week-\"+i+\"/\")\n",
    "    sinop = browser.find_elements_by_class_name(\"synopsis\")\n",
    "    n_sin = len(sinop)\n",
    "    tt = browser.find_elements_by_class_name(\"meta-title-link\")\n",
    "    for element in range(0,n_sin):\n",
    "        title.append(tt[element].text)\n",
    "        s.append(sinop[element].text)\n",
    "print(\"Foram baixadas \"+ str(len(s))+ \" sinopses\")\n",
    "browser.close()"
   ]
  },
  {
   "cell_type": "markdown",
   "metadata": {},
   "source": [
    "Algumas sinopses na época de publicação ainda não tinham classificação indicativa e isso estava indentificado no texto no fim da sinopse, a função abaixo retira essa informação do texto deixando apenas a sinopse."
   ]
  },
  {
   "cell_type": "code",
   "execution_count": 8,
   "metadata": {},
   "outputs": [],
   "source": [
    "for value in range(0,len(s)):\n",
    "    try:\n",
    "        n_class = s[value].index('Classificação indicativa')\n",
    "        s[value] = s[value][:n_class]\n",
    "    except ValueError:\n",
    "        pass"
   ]
  },
  {
   "cell_type": "code",
   "execution_count": 9,
   "metadata": {},
   "outputs": [],
   "source": [
    "dfSinopse = {\"titulo\":title, \"sinopse\":s}\n",
    "dfSinopse = pd.DataFrame(dfSinopse)"
   ]
  },
  {
   "cell_type": "markdown",
   "metadata": {},
   "source": [
    "Realizado o salvamento de um arquivo com as sinopses em csv"
   ]
  },
  {
   "cell_type": "code",
   "execution_count": 10,
   "metadata": {},
   "outputs": [],
   "source": [
    "dfSinopse.to_csv(\"data\\sinopses.csv\",index=False)"
   ]
  }
 ],
 "metadata": {
  "kernelspec": {
   "display_name": "Python 3",
   "language": "python",
   "name": "python3"
  },
  "language_info": {
   "codemirror_mode": {
    "name": "ipython",
    "version": 3
   },
   "file_extension": ".py",
   "mimetype": "text/x-python",
   "name": "python",
   "nbconvert_exporter": "python",
   "pygments_lexer": "ipython3",
   "version": "3.7.2"
  }
 },
 "nbformat": 4,
 "nbformat_minor": 2
}
